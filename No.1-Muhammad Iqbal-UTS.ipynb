{
 "cells": [
  {
   "cell_type": "code",
   "execution_count": 1,
   "id": "9541b8fd-77bd-42a5-9bef-b902521b2d0e",
   "metadata": {},
   "outputs": [],
   "source": [
    "import pandas as pd\n",
    "import numpy as np\n",
    "import sklearn\n",
    "import statsmodels.api as sm\n",
    "from sklearn.linear_model import LinearRegression\n",
    "import matplotlib.pyplot as plt\n",
    "from statsmodels.graphics.tsaplots import plot_acf\n",
    "from statsmodels.stats.diagnostic import het_white\n",
    "from statsmodels.stats.outliers_influence import variance_inflation_factor\n",
    "from statsmodels.stats.diagnostic import het_breuschpagan"
   ]
  },
  {
   "cell_type": "code",
   "execution_count": 2,
   "id": "51834e8b-b237-4fee-8bb0-357f973d8437",
   "metadata": {},
   "outputs": [],
   "source": [
    "df = pd.read_csv(\"https://raw.githubusercontent.com/IqbalHalim/IqbalHalim/main/UTS-Muhammad%20Iqbal%20-%20Sheet1.csv\")"
   ]
  },
  {
   "cell_type": "code",
   "execution_count": 3,
   "id": "31d6dd62-eafc-4734-9b8b-f452bc6e1aba",
   "metadata": {
    "scrolled": true
   },
   "outputs": [
    {
     "data": {
      "text/html": [
       "<div>\n",
       "<style scoped>\n",
       "    .dataframe tbody tr th:only-of-type {\n",
       "        vertical-align: middle;\n",
       "    }\n",
       "\n",
       "    .dataframe tbody tr th {\n",
       "        vertical-align: top;\n",
       "    }\n",
       "\n",
       "    .dataframe thead th {\n",
       "        text-align: right;\n",
       "    }\n",
       "</style>\n",
       "<table border=\"1\" class=\"dataframe\">\n",
       "  <thead>\n",
       "    <tr style=\"text-align: right;\">\n",
       "      <th></th>\n",
       "      <th>X1</th>\n",
       "      <th>X2</th>\n",
       "      <th>Y</th>\n",
       "    </tr>\n",
       "  </thead>\n",
       "  <tbody>\n",
       "    <tr>\n",
       "      <th>0</th>\n",
       "      <td>60</td>\n",
       "      <td>30</td>\n",
       "      <td>65</td>\n",
       "    </tr>\n",
       "    <tr>\n",
       "      <th>1</th>\n",
       "      <td>55</td>\n",
       "      <td>35</td>\n",
       "      <td>70</td>\n",
       "    </tr>\n",
       "    <tr>\n",
       "      <th>2</th>\n",
       "      <td>45</td>\n",
       "      <td>40</td>\n",
       "      <td>62</td>\n",
       "    </tr>\n",
       "    <tr>\n",
       "      <th>3</th>\n",
       "      <td>65</td>\n",
       "      <td>50</td>\n",
       "      <td>75</td>\n",
       "    </tr>\n",
       "    <tr>\n",
       "      <th>4</th>\n",
       "      <td>70</td>\n",
       "      <td>55</td>\n",
       "      <td>80</td>\n",
       "    </tr>\n",
       "    <tr>\n",
       "      <th>5</th>\n",
       "      <td>75</td>\n",
       "      <td>60</td>\n",
       "      <td>85</td>\n",
       "    </tr>\n",
       "    <tr>\n",
       "      <th>6</th>\n",
       "      <td>80</td>\n",
       "      <td>65</td>\n",
       "      <td>90</td>\n",
       "    </tr>\n",
       "    <tr>\n",
       "      <th>7</th>\n",
       "      <td>90</td>\n",
       "      <td>70</td>\n",
       "      <td>95</td>\n",
       "    </tr>\n",
       "    <tr>\n",
       "      <th>8</th>\n",
       "      <td>89</td>\n",
       "      <td>66</td>\n",
       "      <td>77</td>\n",
       "    </tr>\n",
       "    <tr>\n",
       "      <th>9</th>\n",
       "      <td>87</td>\n",
       "      <td>78</td>\n",
       "      <td>87</td>\n",
       "    </tr>\n",
       "    <tr>\n",
       "      <th>10</th>\n",
       "      <td>90</td>\n",
       "      <td>98</td>\n",
       "      <td>87</td>\n",
       "    </tr>\n",
       "    <tr>\n",
       "      <th>11</th>\n",
       "      <td>89</td>\n",
       "      <td>99</td>\n",
       "      <td>98</td>\n",
       "    </tr>\n",
       "    <tr>\n",
       "      <th>12</th>\n",
       "      <td>80</td>\n",
       "      <td>75</td>\n",
       "      <td>86</td>\n",
       "    </tr>\n",
       "    <tr>\n",
       "      <th>13</th>\n",
       "      <td>76</td>\n",
       "      <td>65</td>\n",
       "      <td>68</td>\n",
       "    </tr>\n",
       "    <tr>\n",
       "      <th>14</th>\n",
       "      <td>67</td>\n",
       "      <td>70</td>\n",
       "      <td>76</td>\n",
       "    </tr>\n",
       "  </tbody>\n",
       "</table>\n",
       "</div>"
      ],
      "text/plain": [
       "    X1  X2   Y\n",
       "0   60  30  65\n",
       "1   55  35  70\n",
       "2   45  40  62\n",
       "3   65  50  75\n",
       "4   70  55  80\n",
       "5   75  60  85\n",
       "6   80  65  90\n",
       "7   90  70  95\n",
       "8   89  66  77\n",
       "9   87  78  87\n",
       "10  90  98  87\n",
       "11  89  99  98\n",
       "12  80  75  86\n",
       "13  76  65  68\n",
       "14  67  70  76"
      ]
     },
     "execution_count": 3,
     "metadata": {},
     "output_type": "execute_result"
    }
   ],
   "source": [
    "df"
   ]
  },
  {
   "cell_type": "markdown",
   "id": "0a7d21b8-d584-452b-8658-4edebb79c68d",
   "metadata": {},
   "source": [
    "## Membuat autocorrelaction plot"
   ]
  },
  {
   "cell_type": "code",
   "execution_count": null,
   "id": "39ac1f2b-6418-418b-a8ac-62e4e1328f59",
   "metadata": {},
   "outputs": [],
   "source": [
    "# Membuat autocorrelation plot untuk setiap kolom dengan warna yang berbeda\n",
    "colors = ['b', 'g', 'r']  # Blue, Green, Red\n",
    "\n",
    "#Membuat gambar (figure) dengan ukuran 12x6 inci.\n",
    "plt.figure(figsize=(12, 6))"
   ]
  },
  {
   "cell_type": "markdown",
   "id": "f69f7596-d63b-43c3-a728-c557defb3542",
   "metadata": {},
   "source": [
    "kode colors, digunakan untuk mewarnai tiap kolom dengan warna yang berbeda.\n",
    "**plt.figure(figsize=(12, 6))** membuat ukuran 12x6 inci."
   ]
  },
  {
   "cell_type": "code",
   "execution_count": 21,
   "id": "0851ed82-30cc-4f2e-8bf0-15e5ead84ebf",
   "metadata": {},
   "outputs": [
    {
     "data": {
      "image/png": "[encoded data removed]",
      "text/plain": [
       "<Figure size 640x480 with 1 Axes>"
      ]
     },
     "metadata": {},
     "output_type": "display_data"
    },
    {
     "data": {
      "image/png": "[encoded data removed]",
      "text/plain": [
       "<Figure size 640x480 with 1 Axes>"
      ]
     },
     "metadata": {},
     "output_type": "display_data"
    },
    {
     "data": {
      "image/png": "[encoded data removed]",
      "text/plain": [
       "<Figure size 640x480 with 1 Axes>"
      ]
     },
     "metadata": {},
     "output_type": "display_data"
    }
   ],
   "source": [
    "#digunakan untuk mengiterasi melalui setiap kolom dalam dataframe 'df' beserta indeksnya (i).\n",
    "for i, col in enumerate(df.columns):\n",
    "\n",
    "    #Membuat plot autocorrelation untuk kolom 'col' dengan warna yang sesuai dari daftar 'colors'. \n",
    "    #maxlags adalah panjang maksimum lag yang digunakan dalam plot. Label untuk setiap kolom ditentukan sebagai 'col'.\n",
    "    plt.acorr(df[col], maxlags=len(df[col]) - 1, label=col, color=colors[i])\n",
    "     #Menetapkan judul untuk plot.\n",
    "    plt.title('Autocorrelation Plot for Each Column')\n",
    "\n",
    "    #Menetapkan label sumbu x\n",
    "    plt.xlabel('Lag')\n",
    "\n",
    "    #Menetapkan label sumbu y.\n",
    "    plt.ylabel('Autocorrelation')\n",
    "\n",
    "    #Menampilkan legenda untuk kolom-kolom yang ada.\n",
    "    plt.legend()\n",
    "    plt.show()"
   ]
  },
  {
   "cell_type": "markdown",
   "id": "37412862-f038-45e5-96f6-e0f7daefdf4d",
   "metadata": {},
   "source": [
    "ndoop `for col in df.columns` digunakan untuk mengiterasi melalui setiap kolom dalam dataframe 'df'.\r\n",
    "\r\n",
    "4. Membuat plot autocorrelation untuk setiap kolom:\r\n",
    "   - `plt.acorr(df[col], maxlags=len(df[col]) - 1, label=col)`: Ini menggambar plot autocorrelation untuk setiap kolom 'col' dalam dataframe 'df'. `maxlags` adalah panjang maksimum lag yang digunakan dalam plot, yang dihitung sebagai panjang kolom dikurangi 1. Label kolom ditetapkan sebagai 'col'.\r\n",
    "   - `plt.title(f'Autocorrelation Plot for {col}')`: Menetapkan judul plot yang mencakup nama kolom.\r\n",
    "   - `plt.xlabel('Lag')` dan `plt.ylabel('Autocorrelation')`: Menetapkan label sumbu x dan y pada plot.\r\n",
    "   - `plt.legend()`: Menambahkan legenda yang  signifikan dari yang tidak signifikan.suai."
   ]
  },
  {
   "cell_type": "markdown",
   "id": "774cbf06-b4f6-436f-b6d4-87d2cdf4809f",
   "metadata": {},
   "source": [
    "## Membuat Regresi Linier"
   ]
  },
  {
   "cell_type": "code",
   "execution_count": 5,
   "id": "3bdc86ec-0037-4555-a8c1-17577afb3119",
   "metadata": {},
   "outputs": [],
   "source": [
    "x = df[['X1', 'X2']]\n",
    "y = df['Y']"
   ]
  },
  {
   "cell_type": "markdown",
   "id": "e076cb2c-a8ff-4963-9076-ba8df8c4fe06",
   "metadata": {},
   "source": [
    "Dalam langkah ini, kita memisahkan data yang akan digunakan untuk regresi linier. Variabel x berisi fitur-fitur atau prediktor yang digunakan untuk memprediksi y. Di sini, kita menggunakan kolom 'X1' dan 'X2' sebagai fitur. Variabel y berisi target atau output yang akan diprediksi, yaitu kolom 'Y' dalam dataframe."
   ]
  },
  {
   "cell_type": "code",
   "execution_count": 6,
   "id": "87318eac-ee4e-42c9-b638-649e83282736",
   "metadata": {},
   "outputs": [
    {
     "data": {
      "text/html": [
       "<style>#sk-container-id-1 {color: black;}#sk-container-id-1 pre{padding: 0;}#sk-container-id-1 div.sk-toggleable {background-color: white;}#sk-container-id-1 label.sk-toggleable__label {cursor: pointer;display: block;width: 100%;margin-bottom: 0;padding: 0.3em;box-sizing: border-box;text-align: center;}#sk-container-id-1 label.sk-toggleable__label-arrow:before {content: \"▸\";float: left;margin-right: 0.25em;color: #696969;}#sk-container-id-1 label.sk-toggleable__label-arrow:hover:before {color: black;}#sk-container-id-1 div.sk-estimator:hover label.sk-toggleable__label-arrow:before {color: black;}#sk-container-id-1 div.sk-toggleable__content {max-height: 0;max-width: 0;overflow: hidden;text-align: left;background-color: #f0f8ff;}#sk-container-id-1 div.sk-toggleable__content pre {margin: 0.2em;color: black;border-radius: 0.25em;background-color: #f0f8ff;}#sk-container-id-1 input.sk-toggleable__control:checked~div.sk-toggleable__content {max-height: 200px;max-width: 100%;overflow: auto;}#sk-container-id-1 input.sk-toggleable__control:checked~label.sk-toggleable__label-arrow:before {content: \"▾\";}#sk-container-id-1 div.sk-estimator input.sk-toggleable__control:checked~label.sk-toggleable__label {background-color: #d4ebff;}#sk-container-id-1 div.sk-label input.sk-toggleable__control:checked~label.sk-toggleable__label {background-color: #d4ebff;}#sk-container-id-1 input.sk-hidden--visually {border: 0;clip: rect(1px 1px 1px 1px);clip: rect(1px, 1px, 1px, 1px);height: 1px;margin: -1px;overflow: hidden;padding: 0;position: absolute;width: 1px;}#sk-container-id-1 div.sk-estimator {font-family: monospace;background-color: #f0f8ff;border: 1px dotted black;border-radius: 0.25em;box-sizing: border-box;margin-bottom: 0.5em;}#sk-container-id-1 div.sk-estimator:hover {background-color: #d4ebff;}#sk-container-id-1 div.sk-parallel-item::after {content: \"\";width: 100%;border-bottom: 1px solid gray;flex-grow: 1;}#sk-container-id-1 div.sk-label:hover label.sk-toggleable__label {background-color: #d4ebff;}#sk-container-id-1 div.sk-serial::before {content: \"\";position: absolute;border-left: 1px solid gray;box-sizing: border-box;top: 0;bottom: 0;left: 50%;z-index: 0;}#sk-container-id-1 div.sk-serial {display: flex;flex-direction: column;align-items: center;background-color: white;padding-right: 0.2em;padding-left: 0.2em;position: relative;}#sk-container-id-1 div.sk-item {position: relative;z-index: 1;}#sk-container-id-1 div.sk-parallel {display: flex;align-items: stretch;justify-content: center;background-color: white;position: relative;}#sk-container-id-1 div.sk-item::before, #sk-container-id-1 div.sk-parallel-item::before {content: \"\";position: absolute;border-left: 1px solid gray;box-sizing: border-box;top: 0;bottom: 0;left: 50%;z-index: -1;}#sk-container-id-1 div.sk-parallel-item {display: flex;flex-direction: column;z-index: 1;position: relative;background-color: white;}#sk-container-id-1 div.sk-parallel-item:first-child::after {align-self: flex-end;width: 50%;}#sk-container-id-1 div.sk-parallel-item:last-child::after {align-self: flex-start;width: 50%;}#sk-container-id-1 div.sk-parallel-item:only-child::after {width: 0;}#sk-container-id-1 div.sk-dashed-wrapped {border: 1px dashed gray;margin: 0 0.4em 0.5em 0.4em;box-sizing: border-box;padding-bottom: 0.4em;background-color: white;}#sk-container-id-1 div.sk-label label {font-family: monospace;font-weight: bold;display: inline-block;line-height: 1.2em;}#sk-container-id-1 div.sk-label-container {text-align: center;}#sk-container-id-1 div.sk-container {/* jupyter's `normalize.less` sets `[hidden] { display: none; }` but bootstrap.min.css set `[hidden] { display: none !important; }` so we also need the `!important` here to be able to override the default hidden behavior on the sphinx rendered scikit-learn.org. See: https://github.com/scikit-learn/scikit-learn/issues/21755 */display: inline-block !important;position: relative;}#sk-container-id-1 div.sk-text-repr-fallback {display: none;}</style><div id=\"sk-container-id-1\" class=\"sk-top-container\"><div class=\"sk-text-repr-fallback\"><pre>LinearRegression()</pre><b>In a Jupyter environment, please rerun this cell to show the HTML representation or trust the notebook. <br />On GitHub, the HTML representation is unable to render, please try loading this page with nbviewer.org.</b></div><div class=\"sk-container\" hidden><div class=\"sk-item\"><div class=\"sk-estimator sk-toggleable\"><input class=\"sk-toggleable__control sk-hidden--visually\" id=\"sk-estimator-id-1\" type=\"checkbox\" checked><label for=\"sk-estimator-id-1\" class=\"sk-toggleable__label sk-toggleable__label-arrow\">LinearRegression</label><div class=\"sk-toggleable__content\"><pre>LinearRegression()</pre></div></div></div></div></div>"
      ],
      "text/plain": [
       "LinearRegression()"
      ]
     },
     "execution_count": 6,
     "metadata": {},
     "output_type": "execute_result"
    }
   ],
   "source": [
    "#Membangun model regresi linier\n",
    "model = LinearRegression()\n",
    "model.fit(x, y)"
   ]
  },
  {
   "cell_type": "markdown",
   "id": "5b315a47-214b-4593-b363-e28ae2025bfd",
   "metadata": {},
   "source": [
    "Di sini, kita membuat objek model regresi linier dengan memanggil LinearRegression() dari scikit-learn. Selanjutnya, kita melatih model dengan data kita menggunakan metode .fit(x, y). Ini akan menghitung koefisien dan intercept yang sesuai dengan model regresi linier."
   ]
  },
  {
   "cell_type": "code",
   "execution_count": 7,
   "id": "49a7c3ba-b116-4734-9ee5-4a99ae4c93d2",
   "metadata": {},
   "outputs": [
    {
     "name": "stdout",
     "output_type": "stream",
     "text": [
      "Koefisien:  [0.42954795 0.16985443]\n",
      "Intercept:  37.22563682184434\n"
     ]
    }
   ],
   "source": [
    "#Menampilkan koefisien dan intercept dari model\n",
    "print(\"Koefisien: \", model.coef_)\n",
    "print(\"Intercept: \", model.intercept_)"
   ]
  },
  {
   "cell_type": "markdown",
   "id": "e903bd99-08c4-46dd-ad02-c61ee7c3409a",
   "metadata": {},
   "source": [
    "Kode ini mencetak koefisien (slopes) dan intercept (intersepsi) dari model regresi linier. Koefisien adalah faktor yang mengukur sejauh mana setiap fitur mempengaruhi variabel target, sedangkan intercept adalah nilai ketika semua fitur adalah nol. Hasil cetakan ini akan memberikan nilai-nilai koefisien dan intercept yang telah dihitung oleh model regresi linier.\r\n",
    "\r\n",
    "Hasil cetakan dari kode ini akan menampilkan koefisien dan intercept dari model regresi linier Anda. Koefisien akan memberi Anda informasi tentang seberapa besar dampak setiap fitur (X1 dan X2) terhadap variabel target (Y), sedangkan intercept adalah nilai dari variabel target ketika semua fitur adalah nol. Koefisien positif menunjukkan hubungan positif dengan variabel target, sementara koefisien negatif menunjukkan hubungan negatif. Intersepsi adalah nilai Y ketika semua fitur adalah nol."
   ]
  },
  {
   "cell_type": "markdown",
   "id": "99f47576-ea70-4cb5-a84f-cef244ae75ec",
   "metadata": {},
   "source": [
    "## Membuat UJI Heteroskedastisitas"
   ]
  },
  {
   "cell_type": "code",
   "execution_count": 8,
   "id": "e7b1484c-68a8-4de1-ac4d-67ae6c17dce5",
   "metadata": {},
   "outputs": [],
   "source": [
    "X = sm.add_constant(df[['X1', 'X2']])"
   ]
  },
  {
   "cell_type": "markdown",
   "id": "49ae63bc-26b9-43cb-ae27-a88d5bff1d9f",
   "metadata": {},
   "source": [
    "Di sini, konstanta (intersep) ditambahkan ke model regresi. Variabel X akan berisi dua kolom, yaitu 'X1' dan 'X2', serta kolom konstanta."
   ]
  },
  {
   "cell_type": "code",
   "execution_count": 9,
   "id": "a5f08a30-82fe-4f8b-bf3f-5ee50d9e9bf8",
   "metadata": {},
   "outputs": [],
   "source": [
    "y = df['Y']"
   ]
  },
  {
   "cell_type": "markdown",
   "id": "e166bab5-ecff-4451-bb2f-9a5976cf110a",
   "metadata": {},
   "source": [
    "Variabel y akan berisi kolom 'Y' dari dataset, yang merupakan variabel dependen dalam model regresi."
   ]
  },
  {
   "cell_type": "code",
   "execution_count": 10,
   "id": "7646309b-8e55-46e7-8983-4117d2508111",
   "metadata": {},
   "outputs": [],
   "source": [
    "# Membangun model regresi\n",
    "model = sm.OLS(y, X).fit()"
   ]
  },
  {
   "cell_type": "markdown",
   "id": "de8c04d9-59f2-46a0-b1c8-bb0d941bb88d",
   "metadata": {},
   "source": [
    "Ini adalah langkah pembangunan model regresi. Model Ordinary Least Squares (OLS) digunakan untuk mengestimasi parameter-parameter model regresi. Hasilnya disimpan dalam variabel model."
   ]
  },
  {
   "cell_type": "code",
   "execution_count": 11,
   "id": "054a5bf0-50ab-49c6-8437-293f0ca45b2b",
   "metadata": {},
   "outputs": [],
   "source": [
    "bp_test = het_breuschpagan(model.resid, X)"
   ]
  },
  {
   "cell_type": "markdown",
   "id": "8f3164d3-ca8f-49d8-b805-8b876923a321",
   "metadata": {},
   "source": [
    "Di sini, dilakukan uji heteroskedastisitas dengan menggunakan uji Breusch-Pagan. Fungsi het_breuschpagan digunakan untuk menghitung statistik uji Breusch-Pagan berdasarkan residu dari model regresi dan variabel X."
   ]
  },
  {
   "cell_type": "code",
   "execution_count": 12,
   "id": "c49a2110-4ab9-42d2-988e-5b1b09906e72",
   "metadata": {},
   "outputs": [],
   "source": [
    "bp_value = bp_test[1]"
   ]
  },
  {
   "cell_type": "markdown",
   "id": "4f0bf527-f869-48fd-9e66-f68905cb9d0d",
   "metadata": {},
   "source": [
    "P-value dari uji Breusch-Pagan disimpan dalam variabel bp_value."
   ]
  },
  {
   "cell_type": "code",
   "execution_count": 13,
   "id": "cce11d90-eba4-43c9-a265-5de5b18daf39",
   "metadata": {},
   "outputs": [
    {
     "name": "stdout",
     "output_type": "stream",
     "text": [
      "Tidak ada bukti heteroskedastisitas (p-value >= 0.05)\n"
     ]
    }
   ],
   "source": [
    "# Menampilkan hasil uji\n",
    "if bp_value < 0.05:\n",
    "    print(\"Terdapat bukti heteroskedastisitas (p-value < 0.05)\")\n",
    "else:\n",
    "    print(\"Tidak ada bukti heteroskedastisitas (p-value >= 0.05)\")"
   ]
  },
  {
   "cell_type": "markdown",
   "id": "7ad898c7-f07c-4776-9912-b9ae0ad646c2",
   "metadata": {},
   "source": [
    "Terakhir, kode memeriksa p-value (bp_value) untuk menentukan apakah ada bukti heteroskedastisitas dalam model regresi. Jika bp_value kurang dari 0.05 (tanda <), maka hasil uji menunjukkan adanya bukti heteroskedastisitas, dan pesan \"Terdapat bukti heteroskedastisitas (p-value < 0.05)\" akan dicetak. Sebaliknya, jika bp_value lebih besar atau sama dengan 0.05 (tanda >=), maka pesan \"Tidak ada bukti heteroskedastisitas (p-value >= 0.05)\" akan dicetak.\n",
    "\n",
    "Jadi, hasil output \"Tidak ada bukti heteroskedastisitas (p-value >= 0.05)\" menunjukkan bahwa berdasarkan uji Breusch-Pagan, tidak ada bukti yang cukup kuat untuk mendukung keberadaan heteroskedastisitas dalam model regresi. Dalam konteks ini, ini adalah hasil yang diinginkan karena heteroskedastisitas dapat memengaruhi validitas hasil analisis regresi. Dengan kata lain, model regresi ini diasumsikan memiliki asumsi homoskedastisitas yang diinginkan.\n"
   ]
  },
  {
   "cell_type": "markdown",
   "id": "6c17edb8-bc35-4230-af44-208cda2a2ccb",
   "metadata": {},
   "source": [
    "## Membuat UJI Mulikolonieritas"
   ]
  },
  {
   "cell_type": "code",
   "execution_count": 14,
   "id": "da74e988-c237-441c-aa94-3d5de14ae2cc",
   "metadata": {},
   "outputs": [],
   "source": [
    "# Menambahkan konstanta ke model\n",
    "X = df[['X1', 'X2']]# Hanya variabel independen\n"
   ]
  },
  {
   "cell_type": "markdown",
   "id": "c6b2fd4b-06dd-4190-a97e-4fbb6e5626bf",
   "metadata": {},
   "source": [
    "Di sini, variabel independen 'X1' dan 'X2' dari dataset disimpan dalam variabel X."
   ]
  },
  {
   "cell_type": "code",
   "execution_count": 15,
   "id": "066f38cd-20ea-483c-9aa2-f41362fffdc8",
   "metadata": {},
   "outputs": [],
   "source": [
    "X = sm.add_constant(X)"
   ]
  },
  {
   "cell_type": "markdown",
   "id": "6aa43eb2-ec79-4329-8e09-179f1fb3b8cb",
   "metadata": {},
   "source": [
    "Kemudian, konstanta (intersep) ditambahkan ke model. Konstanta ini adalah variabel yang bernilai 1 untuk semua observasi, yang diperlukan untuk memperhitungkan konstanta dalam model regresi."
   ]
  },
  {
   "cell_type": "code",
   "execution_count": 16,
   "id": "eaccb3a3-cc2f-4ca2-91a4-86f6b557ca05",
   "metadata": {},
   "outputs": [],
   "source": [
    "# Menghitung VIF\n",
    "vif = pd.DataFrame()\n",
    "vif[\"Variable\"] = X.columns\n",
    "vif[\"VIF\"] = [variance_inflation_factor(X.values, i) for i in range(X.shape[1])]"
   ]
  },
  {
   "cell_type": "markdown",
   "id": "2896808a-285f-4be2-92eb-9b6f69133d55",
   "metadata": {},
   "source": [
    "**vif = pd.DataFrame()**: Di sini, dibuat sebuah DataFrame kosong yang akan digunakan untuk menyimpan hasil perhitungan VIF.\n",
    "vif[\"Variable\"] = X.columns: Dalam DataFrame vif, kolom \"Variable\" diisi dengan nama-nama variabel dari X.\n",
    "vif[\"VIF\"] = [variance_inflation_factor(X.values, i) for i in range(X.shape[1])]: Dalam langkah ini, VIF dihitung untuk setiap variabel independen dalam X. Fungsi variance_inflation_factor dari modul statsmodels.stats.outliers_influence digunakan untuk menghitung VIF. Hasil perhitungan VIF disimpan dalam kolom \"VIF\" DataFrame vif."
   ]
  },
  {
   "cell_type": "code",
   "execution_count": 17,
   "id": "9b6775ea-4d70-48bc-9e78-d1efdea4c498",
   "metadata": {},
   "outputs": [
    {
     "name": "stdout",
     "output_type": "stream",
     "text": [
      "  Variable        VIF\n",
      "0    const  37.105665\n",
      "1       X1   3.324964\n",
      "2       X2   3.324964\n"
     ]
    }
   ],
   "source": [
    "# Menampilkan hasil VIF\n",
    "print(vif)"
   ]
  },
  {
   "cell_type": "markdown",
   "id": "24d58712-fc33-4fbd-a1a0-314ab5ad4fe8",
   "metadata": {},
   "source": [
    "print(vif): Hasil perhitungan VIF ditampilkan dalam bentuk DataFrame."
   ]
  },
  {
   "cell_type": "markdown",
   "id": "497a0a0b-0232-4734-b3e2-8d760d4333e1",
   "metadata": {},
   "source": [
    "Variable\" adalah nama variabel atau konstanta.\n",
    "\"VIF\" adalah nilai Variance Inflation Factor (Faktor Inflasi Varians) untuk masing-masing variabel. Nilai VIF untuk konstanta sangat tinggi (37.105665), yang menunjukkan adanya multicollinearity dalam model. Di sisi lain, nilai VIF untuk 'X1' dan 'X2' adalah sekitar 3.324964, yang menunjukkan bahwa kedua variabel tersebut memiliki tingkat multicollinearity yang lebih rendah. Nilai VIF yang tinggi (biasanya di atas 10) untuk variabel independen menandakan adanya masalah multicollinearity yang perlu diperhatikan dalam analisis regresi."
   ]
  },
  {
   "cell_type": "markdown",
   "id": "cadbf87a-e936-469c-9058-65611d28d2f6",
   "metadata": {},
   "source": [
    "## Membuat Algortima Regresi dengan paket STATMODEL"
   ]
  },
  {
   "cell_type": "code",
   "execution_count": 18,
   "id": "a781e9d4-a7bf-4fa9-a304-0d3a960f3d3f",
   "metadata": {
    "scrolled": true
   },
   "outputs": [
    {
     "name": "stdout",
     "output_type": "stream",
     "text": [
      "                            OLS Regression Results                            \n",
      "==============================================================================\n",
      "Dep. Variable:                      Y   R-squared:                       0.697\n",
      "Model:                            OLS   Adj. R-squared:                  0.646\n",
      "Method:                 Least Squares   F-statistic:                     13.78\n",
      "Date:                Sat, 14 Oct 2023   Prob (F-statistic):           0.000779\n",
      "Time:                        22:49:51   Log-Likelihood:                -47.595\n",
      "No. Observations:                  15   AIC:                             101.2\n",
      "Df Residuals:                      12   BIC:                             103.3\n",
      "Df Model:                           2                                         \n",
      "Covariance Type:            nonrobust                                         \n",
      "==============================================================================\n",
      "                 coef    std err          t      P>|t|      [0.025      0.975]\n",
      "------------------------------------------------------------------------------\n",
      "const         37.2256     10.161      3.664      0.003      15.088      59.364\n",
      "X1             0.4295      0.225      1.911      0.080      -0.060       0.919\n",
      "X2             0.1699      0.157      1.083      0.300      -0.172       0.512\n",
      "==============================================================================\n",
      "Omnibus:                        2.081   Durbin-Watson:                   1.881\n",
      "Prob(Omnibus):                  0.353   Jarque-Bera (JB):                1.325\n",
      "Skew:                          -0.714   Prob(JB):                        0.516\n",
      "Kurtosis:                       2.715   Cond. No.                         612.\n",
      "==============================================================================\n",
      "\n",
      "Notes:\n",
      "[1] Standard Errors assume that the covariance matrix of the errors is correctly specified.\n"
     ]
    },
    {
     "name": "stderr",
     "output_type": "stream",
     "text": [
      "C:\\Users\\Muhammad Iqbal\\AppData\\Local\\Programs\\Python\\Python312\\Lib\\site-packages\\scipy\\stats\\_stats_py.py:1806: UserWarning: kurtosistest only valid for n>=20 ... continuing anyway, n=15\n",
      "  warnings.warn(\"kurtosistest only valid for n>=20 ... continuing \"\n"
     ]
    }
   ],
   "source": [
    "\n",
    "# Menambahkan konstanta ke model\n",
    "X = df[['X1', 'X2']]\n",
    "X = sm.add_constant(X)\n",
    "y = df['Y']\n",
    "\n",
    "# Membangun model regresi\n",
    "model = sm.OLS(y, X).fit()\n",
    "\n",
    "# Menampilkan hasil regresi\n",
    "print(model.summary())"
   ]
  },
  {
   "cell_type": "markdown",
   "id": "5826efe7-556a-497e-b08c-37ac6798c6b4",
   "metadata": {},
   "source": [
    "\n",
    "\r\n",
    "1. **Dep. Variable (Variabel Dependan)**: Ini adalah nama variabel dependen, dalam hal ini 'Y'.\r\n",
    "\r\n",
    "2. **R-squared**: R-squared (R^2) adalah ukuran sejauh mana variabilitas dalam data (variabel dependen 'Y') dapat dijelaskan oleh model regresi. Nilai R-squared adalah 0.697, yang berarti sekitar 69.7% variabilitas dalam 'Y' dapat dijelaskan oleh model. Semakin tinggi nilai R-squared, semakin baik modelnya.\r\n",
    "\r\n",
    "3. **Adj. R-squared**: Adj. R-squared adalah R-squared yang disesuaikan dengan jumlah variabel independen dan jumlah observasi. Nilainya adalah 0.646.\r\n",
    "\r\n",
    "4. **F-statistic**: Ini adalah statistik uji F, yang digunakan untuk menguji keseluruhan signifikansi model. Nilainya adalah 13.78, dan probabilitas (Prob (F-statistic)) adalah 0.000779. Nilai probabilitas yang rendah menunjukkan bahwa model secara keseluruhan signifikan.\r\n",
    "\r\n",
    "5. **coef (Koefisien Regresi)**: Di bawah ini adalah koefisien regresi untuk setiap variabel dalam model.\r\n",
    "   - Konstanta (const): 37.2256\r\n",
    "   - Koefisien untuk 'X1': 0.4295\r\n",
    "   - Koefisien untuk 'X2': 0.1699\r\n",
    "\r\n",
    "   Koefisien ini menunjukkan hubungan antara variabel independen dan dependen. Misalnya, koefisien untuk 'X1' adalah 0.4295, yang berarti bahwa setiap peningkatan satu unit dalam 'X1' akan menghasilkan peningkatan sekitar 0.4295 unit dalam 'Y'.\r\n",
    "\r\n",
    "6. **std err (Standar Error)**: Standar error adalah perkiraan dari seberapa akurat koefisien regresi tersebut. Semakin rendah standar errornya, semakin baik akurasi koefisien.\r\n",
    "\r\n",
    "7. **t (t-statistic)**: Statistik t digunakan untuk menguji signifikansi koefisien. Nilai t adalah hasil dari membagi koefisien dengan standar errornya. Semakin besar nilai t, semakin signifikan koefisien tersebut.\r\n",
    "\r\n",
    "8. **P>|t| (P-value)**: Ini adalah nilai p-value yang mengukur signifikansi statistik koefisien. Nilai p-value di bawah level signifikansi (biasanya 0.05) menunjukkan bahwa koefisien tersebut signifikan. Dalam hal ini, 'const' dan 'X1' memiliki p-value yang kurang dari 0.05, sedangkan 'X2' memiliki p-value yang lebih tinggi dari 0.05.\r\n",
    "\r\n",
    "9. **Omnibus**: Statistik Omnibus dan nilai probabilitasnya (Prob(Omnibus)) digunakan untuk menguji asumsi normalitas residual. Nilai probabilitas yang rendah bisa menunjukkan bahwa asumsi normalitas tidak terpenuhi.\r\n",
    "\r\n",
    "10. **Durbin-Watson**: Statistik Durbin-Watson adalah ukuran otonomi dari residual dalam model. Nilainya adalah 1.881. Nilai antara 1 dan 2 biasanya dianggap wajar, dan nilai yang lebih rendah dapat menunjukkan adanya autokorelasi.\r\n",
    "\r\n",
    "11. **Jarque-Bera (JB)**: Statistik Jarque-Bera dan probabilitasnya (Prob(JB)) digunakan untuk menguji asumsi normalitas dan kurtosis residual. Nilai probabilitas yang tinggi menunjukkan bahwa asumsi normalitas dan kurtosis terpenuhi.\r\n",
    "\r\n",
    "12. **Skew**: Nilai skewness mengukur sejauh mana distribusi residual miring. Skewness negatif (-0.714) menunjukkan bahwa distribusi cenderung miring ke kiri.\r\n",
    "\r\n",
    "13. **Kurtosis**: Nilai kurtosis mengukur sejauh mana distribusi residual lebih atau kurang tajam dibandingkan distribusi normal. Nilai kurtosis sekitar 2.715 menunjukkan bahwa distribusi residual agak lebih tumpul dibandingkan distribusi normal.\r\n",
    "\r\n",
    "14. **Cond. No.**: Ini adalah angka kondisi (condition number) yang mengukur sejauh mana variabilitas dalam data menyebabkan masalah multikolinearitas. Semakin tinggi angka kondisi, semakin besar masalah multikolinearitas. Nilai kondisi yang rendah (612 dalam kasus ini) menunjukkan bahwa mutas, autokorelasi, dll.) terpenuhi."
   ]
  },
  {
   "cell_type": "code",
   "execution_count": null,
   "id": "3168d998-5f36-43b8-ac56-1d3fb4746aaa",
   "metadata": {},
   "outputs": [],
   "source": []
  }
 ],
 "metadata": {
  "kernelspec": {
   "display_name": "Python 3 (ipykernel)",
   "language": "python",
   "name": "python3"
  },
  "language_info": {
   "codemirror_mode": {
    "name": "ipython",
    "version": 3
   },
   "file_extension": ".py",
   "mimetype": "text/x-python",
   "name": "python",
   "nbconvert_exporter": "python",
   "pygments_lexer": "ipython3",
   "version": "3.12.0"
  }
 },
 "nbformat": 4,
 "nbformat_minor": 5
}
